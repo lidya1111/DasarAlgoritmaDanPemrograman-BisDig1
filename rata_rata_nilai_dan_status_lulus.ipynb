{
  "nbformat": 4,
  "nbformat_minor": 0,
  "metadata": {
    "colab": {
      "provenance": [],
      "authorship_tag": "ABX9TyM6CIWqsIYiYctKgtlZNo8Y",
      "include_colab_link": true
    },
    "kernelspec": {
      "name": "python3",
      "display_name": "Python 3"
    },
    "language_info": {
      "name": "python"
    }
  },
  "cells": [
    {
      "cell_type": "markdown",
      "metadata": {
        "id": "view-in-github",
        "colab_type": "text"
      },
      "source": [
        "<a href=\"https://colab.research.google.com/github/lidya1111/DasarAlgoritmaDanPemrograman-BisDig1/blob/main/rata_rata_nilai_dan_status_lulus.ipynb\" target=\"_parent\"><img src=\"https://colab.research.google.com/assets/colab-badge.svg\" alt=\"Open In Colab\"/></a>"
      ]
    },
    {
      "cell_type": "code",
      "execution_count": 1,
      "metadata": {
        "colab": {
          "base_uri": "https://localhost:8080/"
        },
        "id": "VZe8kO0yU1wk",
        "outputId": "a4ddb9f7-57a8-4f8f-ad2a-9011ef456a67"
      },
      "outputs": [
        {
          "output_type": "stream",
          "name": "stdout",
          "text": [
            "Masukkan nilai mata pelajaran ke-1: 91\n",
            "Masukkan nilai mata pelajaran ke-2: 85\n",
            "Masukkan nilai mata pelajaran ke-3: 87\n",
            "Rata-rata: 87.67 - Status: Lulus\n"
          ]
        }
      ],
      "source": [
        "nilai = []\n",
        "for i in range(3):\n",
        "    nilai.append(float(input(f\"Masukkan nilai mata pelajaran ke-{i+1}: \")))\n",
        "\n",
        "rata = sum(nilai) / len(nilai)\n",
        "\n",
        "if rata > 75:\n",
        "    print(f\"Rata-rata: {rata:.2f} - Status: Lulus\")\n",
        "else:\n",
        "    print(f\"Rata-rata: {rata:.2f} - Status: Tidak Lulus\")"
      ]
    }
  ]
}