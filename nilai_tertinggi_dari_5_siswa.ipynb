{
  "nbformat": 4,
  "nbformat_minor": 0,
  "metadata": {
    "colab": {
      "provenance": [],
      "authorship_tag": "ABX9TyOv9F2l1hKAlFEzLfNcVzMz",
      "include_colab_link": true
    },
    "kernelspec": {
      "name": "python3",
      "display_name": "Python 3"
    },
    "language_info": {
      "name": "python"
    }
  },
  "cells": [
    {
      "cell_type": "markdown",
      "metadata": {
        "id": "view-in-github",
        "colab_type": "text"
      },
      "source": [
        "<a href=\"https://colab.research.google.com/github/lidya1111/DasarAlgoritmaDanPemrograman-BisDig1/blob/main/nilai_tertinggi_dari_5_siswa.ipynb\" target=\"_parent\"><img src=\"https://colab.research.google.com/assets/colab-badge.svg\" alt=\"Open In Colab\"/></a>"
      ]
    },
    {
      "cell_type": "code",
      "execution_count": 2,
      "metadata": {
        "colab": {
          "base_uri": "https://localhost:8080/"
        },
        "id": "nYREeR5GVM2w",
        "outputId": "3c78aa60-df13-4f85-cab4-82c6c62c1e7d"
      },
      "outputs": [
        {
          "output_type": "stream",
          "name": "stdout",
          "text": [
            "Nilai siswa ke-1: 80\n",
            "Nilai siswa ke-2: 76\n",
            "Nilai siswa ke-3: 85\n",
            "Nilai siswa ke-4: 92\n",
            "Nilai siswa ke-5: 87\n",
            "Nilai tertinggi: 92.0 diperoleh siswa ke-4\n"
          ]
        }
      ],
      "source": [
        "nilai = [float(input(f\"Nilai siswa ke-{i+1}: \")) for i in range(5)]\n",
        "\n",
        "nilai_tertinggi = nilai[0]\n",
        "siswa_tertinggi = 1\n",
        "\n",
        "for i in range(1, 5):\n",
        "    if nilai[i] > nilai_tertinggi:\n",
        "        nilai_tertinggi = nilai[i]\n",
        "        siswa_tertinggi = i + 1\n",
        "\n",
        "print(f\"Nilai tertinggi: {nilai_tertinggi} diperoleh siswa ke-{siswa_tertinggi}\")"
      ]
    }
  ]
}