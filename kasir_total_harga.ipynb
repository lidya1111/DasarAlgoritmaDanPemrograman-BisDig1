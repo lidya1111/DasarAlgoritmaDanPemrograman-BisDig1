{
  "nbformat": 4,
  "nbformat_minor": 0,
  "metadata": {
    "colab": {
      "provenance": [],
      "authorship_tag": "ABX9TyMjZiZUTHyFnNlmUJv59CZ/",
      "include_colab_link": true
    },
    "kernelspec": {
      "name": "python3",
      "display_name": "Python 3"
    },
    "language_info": {
      "name": "python"
    }
  },
  "cells": [
    {
      "cell_type": "markdown",
      "metadata": {
        "id": "view-in-github",
        "colab_type": "text"
      },
      "source": [
        "<a href=\"https://colab.research.google.com/github/lidya1111/DasarAlgoritmaDanPemrograman-BisDig1/blob/main/kasir_total_harga.ipynb\" target=\"_parent\"><img src=\"https://colab.research.google.com/assets/colab-badge.svg\" alt=\"Open In Colab\"/></a>"
      ]
    },
    {
      "cell_type": "code",
      "execution_count": 1,
      "metadata": {
        "colab": {
          "base_uri": "https://localhost:8080/"
        },
        "id": "feT9knk5TNpJ",
        "outputId": "3f33e147-6ca9-4266-934a-57a387bd479e"
      },
      "outputs": [
        {
          "output_type": "stream",
          "name": "stdout",
          "text": [
            "Masukkan harga barang ke-1: 15000\n",
            "Masukkan harga barang ke-2: 1000\n",
            "Masukkan harga barang ke-3: 5000\n",
            "Total pembayaran: Rp 21000.00\n"
          ]
        }
      ],
      "source": [
        "harga_barang = []\n",
        "for i in range(3):\n",
        "    harga = float(input(f\"Masukkan harga barang ke-{i+1}: \"))\n",
        "    harga_barang.append(harga)\n",
        "\n",
        "total_harga = sum(harga_barang)\n",
        "print(f\"Total pembayaran: Rp {total_harga:.2f}\")"
      ]
    }
  ]
}