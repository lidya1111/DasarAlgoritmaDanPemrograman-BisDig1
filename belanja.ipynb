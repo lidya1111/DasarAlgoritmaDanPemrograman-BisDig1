{
  "nbformat": 4,
  "nbformat_minor": 0,
  "metadata": {
    "colab": {
      "provenance": [],
      "authorship_tag": "ABX9TyNIJIXUBc1lxd4Bh7u1wkcx",
      "include_colab_link": true
    },
    "kernelspec": {
      "name": "python3",
      "display_name": "Python 3"
    },
    "language_info": {
      "name": "python"
    }
  },
  "cells": [
    {
      "cell_type": "markdown",
      "metadata": {
        "id": "view-in-github",
        "colab_type": "text"
      },
      "source": [
        "<a href=\"https://colab.research.google.com/github/lidya1111/DasarAlgoritmaDanPemrograman-BisDig1/blob/main/belanja.ipynb\" target=\"_parent\"><img src=\"https://colab.research.google.com/assets/colab-badge.svg\" alt=\"Open In Colab\"/></a>"
      ]
    },
    {
      "cell_type": "code",
      "execution_count": 2,
      "metadata": {
        "colab": {
          "base_uri": "https://localhost:8080/"
        },
        "id": "LP5G3TFgVxcJ",
        "outputId": "af6a5721-5a22-45cc-bea9-8ca9aed39e4d"
      },
      "outputs": [
        {
          "output_type": "stream",
          "name": "stdout",
          "text": [
            "Masukkan jumlah total belanja Anda: Rp 80000\n",
            "Total yang harus dibayar setelah diskon (jika ada): Rp 80000.00\n"
          ]
        }
      ],
      "source": [
        "total_belanja = float(input(\"Masukkan jumlah total belanja Anda: Rp \"))\n",
        "\n",
        "if total_belanja > 500000:\n",
        "    total_bayar = total_belanja * 0.9  # diskon 10%\n",
        "else:\n",
        "    total_bayar = total_belanja\n",
        "\n",
        "print(\"Total yang harus dibayar setelah diskon (jika ada): Rp {:.2f}\".format(total_bayar))"
      ]
    }
  ]
}