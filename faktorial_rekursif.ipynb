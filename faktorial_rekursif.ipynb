{
  "nbformat": 4,
  "nbformat_minor": 0,
  "metadata": {
    "colab": {
      "provenance": [],
      "authorship_tag": "ABX9TyN99WFafo89C0CDqDl11y2z",
      "include_colab_link": true
    },
    "kernelspec": {
      "name": "python3",
      "display_name": "Python 3"
    },
    "language_info": {
      "name": "python"
    }
  },
  "cells": [
    {
      "cell_type": "markdown",
      "metadata": {
        "id": "view-in-github",
        "colab_type": "text"
      },
      "source": [
        "<a href=\"https://colab.research.google.com/github/lidya1111/DasarAlgoritmaDanPemrograman-BisDig1/blob/main/faktorial_rekursif.ipynb\" target=\"_parent\"><img src=\"https://colab.research.google.com/assets/colab-badge.svg\" alt=\"Open In Colab\"/></a>"
      ]
    },
    {
      "cell_type": "code",
      "execution_count": 1,
      "metadata": {
        "colab": {
          "base_uri": "https://localhost:8080/"
        },
        "id": "61hNa0l4SIHb",
        "outputId": "4250c7cd-95b6-4de8-c471-4fb1351db2b2"
      },
      "outputs": [
        {
          "output_type": "stream",
          "name": "stdout",
          "text": [
            "Masukkan angka untuk faktorial: 3\n",
            "Faktorial dari 3 adalah 6\n"
          ]
        }
      ],
      "source": [
        "def faktorial(n):\n",
        "    if n == 0:\n",
        "        return 1\n",
        "    else:\n",
        "        return n * faktorial(n-1)\n",
        "\n",
        "angka = int(input(\"Masukkan angka untuk faktorial: \"))\n",
        "hasil = faktorial(angka)\n",
        "print(f\"Faktorial dari {angka} adalah {hasil}\")"
      ]
    }
  ]
}